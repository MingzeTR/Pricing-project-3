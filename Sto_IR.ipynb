{
 "cells": [
  {
   "cell_type": "code",
   "execution_count": 1,
   "metadata": {},
   "outputs": [],
   "source": [
    "import numpy as np\n",
    "import matplotlib.pyplot as plt\n",
    "from scipy.stats import norm\n",
    "from scipy import e"
   ]
  },
  {
   "cell_type": "code",
   "execution_count": 2,
   "metadata": {},
   "outputs": [],
   "source": [
    "T = 10\n",
    "nsteps = 20\n",
    "nsims = 1000\n",
    "r0 = 0.02\n",
    "alpha = 3\n",
    "sigma = 0.01\n",
    "theta0 = 0.03\n",
    "beta = 1\n",
    "phi = 0.05\n",
    "eta = 0.005"
   ]
  },
  {
   "cell_type": "code",
   "execution_count": 3,
   "metadata": {},
   "outputs": [],
   "source": [
    "def Sim_Brownian_Motion(t):\n",
    "    # store the paths of the Brownian motion\n",
    "    W = np.zeros(len(t))\n",
    "\n",
    "    sqrt_dt = np.sqrt(t[1] - t[0])\n",
    "    for i in range(len(t) - 1):\n",
    "        W[i + 1] = W[i] + sqrt_dt * np.random.randn()\n",
    "\n",
    "    return W"
   ]
  },
  {
   "cell_type": "code",
   "execution_count": 4,
   "metadata": {},
   "outputs": [],
   "source": [
    "def risk_neutral_int_elur(r0, alpha, beta, sigma, theta0, phi, eta, t, w_sim_r, w_sim_theta):\n",
    "    dt = t[1] - t[0]\n",
    "\n",
    "    theta_path = np.zeros(len(t))\n",
    "    theta_path[0] = theta0\n",
    "\n",
    "    r_path = np.zeros(len(t))\n",
    "    r_path[0] = r0\n",
    "\n",
    "    # Euler theta and r\n",
    "    for i in range(len(t)-1):\n",
    "        theta_path[i+1] = theta_path[i] + beta * (phi - theta_path[i]) * dt + eta * (w_sim_theta[i+1] - w_sim_theta[i])\n",
    "        r_path[i+1] = r_path[i] + alpha * (theta_path[i] - r_path[i]) * dt + sigma * (w_sim_r[i+1] - w_sim_r[i])\n",
    "\n",
    "    return theta_path, r_path"
   ]
  },
  {
   "cell_type": "code",
   "execution_count": 5,
   "metadata": {},
   "outputs": [],
   "source": [
    "def bond_price(t1, t2, t, step, r_path):\n",
    "    dt = t[1] - t[0]\n",
    "    bank_account = np.zeros(int(t2 * step)+1)\n",
    "    bank_account[0] = 1\n",
    "    for i in range(0, t2 * step):\n",
    "        bank_account[i+1] = bank_account[i] + r_path[i] * bank_account[i] * dt\n",
    "    return bank_account[t1 * step] / bank_account[t2 * step]"
   ]
  },
  {
   "cell_type": "code",
   "execution_count": 6,
   "metadata": {},
   "outputs": [],
   "source": [
    "def analytic_a(alpha, beta, sigma, phi, eta, T, t):\n",
    "    m = e ** -(alpha * (T - t))\n",
    "    n = e ** -(beta * (T - t))\n",
    "    p1 = - phi * (T - t)\n",
    "    p2 = - phi * beta * (1 - m) / (alpha * (alpha - beta))\n",
    "    p3 = phi * alpha * (1 - n) / (beta * (alpha - beta))\n",
    "    pb = sigma ** 2 / (2 * alpha ** 2) * (T - t) \\\n",
    "        - sigma ** 2 * (1- m) / alpha ** 3 \\\n",
    "        + sigma ** 2 * (1 - m ** 2) / (4 * alpha ** 3)\n",
    "    pc = eta ** 2 / (2 * beta ** 2) * (\n",
    "        (T - t)\n",
    "        + 2 * beta * (1 - m) / (alpha * (alpha - beta))\n",
    "        - 2 * alpha * (1 - n) / (beta * (alpha - beta))\n",
    "        + beta ** 2 * (1 - m ** 2) / (2 * alpha * (alpha - beta) ** 2)\n",
    "        - 2 * alpha * beta * (1 - m * n) / ((alpha + beta) * (alpha - beta) ** 2)\n",
    "        + alpha ** 2 * (1 - n ** 2) / (2 * beta * (alpha - beta) ** 2)\n",
    "    )\n",
    "\n",
    "    return p1 + p2 + p3 + pb + pc\n",
    "\n",
    "\n",
    "def analytic_b(alpha, T, t):\n",
    "    return (1 - e ** -(alpha * (T - t))) / alpha\n",
    "\n",
    "\n",
    "def analytic_c(alpha, beta, T, t):\n",
    "    return (1 / beta\n",
    "            + (beta * e ** -(alpha * (T - t)) - alpha * e ** -(beta * (T - t))) / (beta * (alpha - beta)))"
   ]
  },
  {
   "cell_type": "code",
   "execution_count": 7,
   "metadata": {},
   "outputs": [],
   "source": [
    "def analytic_formula_curve(r0, alpha, beta, sigma, theta0, phi, eta, T, t):\n",
    "    return (analytic_b(alpha, T, t) * r0\n",
    "            + analytic_c(alpha, beta, T, t) * theta0\n",
    "            - analytic_a(alpha, beta, sigma, phi, eta, T, t)) / (T - t)"
   ]
  },
  {
   "cell_type": "markdown",
   "metadata": {},
   "source": [
    "### Q4"
   ]
  },
  {
   "cell_type": "code",
   "execution_count": 42,
   "metadata": {},
   "outputs": [],
   "source": [
    "# Analytic Version\\\n",
    "T1 = 3\n",
    "T2 = 5"
   ]
  },
  {
   "cell_type": "code",
   "execution_count": 43,
   "metadata": {},
   "outputs": [],
   "source": [
    "def H1_sq(t1, t2, t, alpha, sigma):\n",
    "    m1 = np.exp(-alpha*(t1-t))\n",
    "    m2 = np.exp(-alpha*(t2-t))\n",
    "    \n",
    "    temp_H1 = sigma**2/(2*alpha**3) * ((np.exp(-alpha*(t2-t1))-1)**2 - (m2-m1)**2)\n",
    "    return temp_H1"
   ]
  },
  {
   "cell_type": "code",
   "execution_count": 44,
   "metadata": {},
   "outputs": [],
   "source": [
    "def H2_sq(t1, t2, t, alpha, beta, sigma, eta):\n",
    "    \n",
    "    m1 = np.exp(-alpha*(t1-t))\n",
    "    m2 = np.exp(-alpha*(t2-t))\n",
    "    n1 = np.exp(-beta*(t1-t))\n",
    "    n2 = np.exp(-beta*(t2-t))\n",
    "    \n",
    "    p1 = beta**2/(2*alpha) * ((np.exp(-alpha*(t2-t1))-1)**2 - (m2-m1)**2)\n",
    "    p2 = -2*alpha*beta/(alpha+beta) *((np.exp(-alpha*(t2-t1))-1)*(np.exp(-beta*(t2-t1))-1) - (m2-m1)*(n2-n1))\n",
    "    p3 = alpha**2/(2*beta) * ((np.exp(-beta*(t2-t1))-1)**2 - (n2-n1)**2)\n",
    "    \n",
    "    H2_temp = eta**2/(beta**2 * (alpha-beta)**2) * (p1+p2+p3)\n",
    "    \n",
    "    return H2_temp"
   ]
  },
  {
   "cell_type": "code",
   "execution_count": 45,
   "metadata": {},
   "outputs": [],
   "source": [
    "P0_T1 = np.exp(-analytic_formula_curve(r0, alpha, beta, sigma, theta0, phi, eta, T1, 0)*(T1-0))\n",
    "P0_T2 = np.exp(-analytic_formula_curve(r0, alpha, beta, sigma, theta0, phi, eta, T2, 0)*(T2-0))\n",
    "K = P0_T2/P0_T1"
   ]
  },
  {
   "cell_type": "code",
   "execution_count": 46,
   "metadata": {},
   "outputs": [],
   "source": [
    "H1_T1_sq = H1_sq(T1, T2, 0, alpha, sigma)\n",
    "H2_T1_sq = H2_sq(T1, T2, 0, alpha, beta, sigma, eta)"
   ]
  },
  {
   "cell_type": "code",
   "execution_count": 47,
   "metadata": {},
   "outputs": [],
   "source": [
    "K_steps = 11\n",
    "K_factor = np.linspace(0.95, 1.05, K_steps)\n",
    "g_T1 = np.zeros(K_steps)\n",
    "\n",
    "for i in range(0, K_steps):\n",
    "    \n",
    "    K_temp = K*K_factor[i]\n",
    "    \n",
    "    d1 = (np.log(P0_T2/(K_temp*P0_T1)) + 0.5*(H1_T1_sq+H2_T1_sq))/(np.sqrt(H1_T1_sq+H2_T1_sq))\n",
    "    d2 = (np.log(P0_T2/(K_temp*P0_T1)) - 0.5*(H1_T1_sq+H2_T1_sq))/(np.sqrt(H1_T1_sq+H2_T1_sq))\n",
    "    g_T1[i] = P0_T2*norm.cdf(d1) - P0_T1*K_temp*norm.cdf(d2)"
   ]
  },
  {
   "cell_type": "code",
   "execution_count": 49,
   "metadata": {},
   "outputs": [
    {
     "data": {
      "text/plain": [
       "<matplotlib.legend.Legend at 0x10c356b70>"
      ]
     },
     "execution_count": 49,
     "metadata": {},
     "output_type": "execute_result"
    },
    {
     "data": {
      "image/png": "[encoded data removed]",
      "text/plain": [
       "<Figure size 432x288 with 1 Axes>"
      ]
     },
     "metadata": {},
     "output_type": "display_data"
    }
   ],
   "source": [
    "plt.plot(K*K_factor, g_T1, label='Analtic Option Price')\n",
    "plt.xlabel('Strike')\n",
    "plt.ylabel('Option Price')\n",
    "plt.title('Option Proce Simulation')\n",
    "plt.legend()"
   ]
  },
  {
   "cell_type": "code",
   "execution_count": 50,
   "metadata": {},
   "outputs": [
    {
     "data": {
      "text/plain": [
       "1.05"
      ]
     },
     "execution_count": 50,
     "metadata": {},
     "output_type": "execute_result"
    }
   ],
   "source": [
    "K_factor = np.linspace(0.95, 1.05, 11)\n",
    "K_factor[10]"
   ]
  },
  {
   "cell_type": "code",
   "execution_count": null,
   "metadata": {},
   "outputs": [],
   "source": []
  },
  {
   "cell_type": "code",
   "execution_count": 20,
   "metadata": {},
   "outputs": [],
   "source": [
    "t = np.linspace(0, T, nsteps)\n",
    "\n",
    "theta_path_set = np.zeros((nsims, nsteps))\n",
    "r_path_set = np.zeros((nsims, nsteps))\n",
    "\n",
    "for i in range(0,nsims):\n",
    "    w_sim_r = Sim_Brownian_Motion(t)\n",
    "    w_sim_theta = Sim_Brownian_Motion(t)\n",
    "\n",
    "    theta_path_set[i:], r_path_set[i:] = risk_neutral_int_elur(r0, alpha, beta, sigma, theta0, phi, eta, t, w_sim_r, w_sim_theta)\n",
    "\n",
    "\n",
    "bond_yield = np.average(r_path_set, axis = 0)"
   ]
  },
  {
   "cell_type": "code",
   "execution_count": 21,
   "metadata": {},
   "outputs": [
    {
     "data": {
      "text/plain": [
       "<matplotlib.legend.Legend at 0x10b143f98>"
      ]
     },
     "execution_count": 21,
     "metadata": {},
     "output_type": "execute_result"
    },
    {
     "data": {
      "image/png": "[encoded data removed]",
      "text/plain": [
       "<Figure size 432x288 with 1 Axes>"
      ]
     },
     "metadata": {},
     "output_type": "display_data"
    }
   ],
   "source": [
    "plt.plot(t, bond_yield, label='MC bond yield')\n",
    "plt.xlabel('Time')\n",
    "plt.ylabel('Yield')\n",
    "plt.legend()"
   ]
  },
  {
   "cell_type": "code",
   "execution_count": null,
   "metadata": {},
   "outputs": [],
   "source": [
    "bond_y_ana = np.zeros(len(t))\n",
    "for i in t:\n",
    "    m = np.exp(-alpha*(T-i))\n",
    "    n = np.exp(-beta*(T-i))\n",
    "    Bt = (1-m)/alpha\n",
    "    Ct = 1/beta + (beta*m-alpha*n)/(beta*(alpha-beta))\n",
    "    big_int_b = sigma**2*(T-i)/(2*alpha**2) - sigma**2*(1-m)/(alpha**3) + sigma**2*(1-m**2)/(4*alpha**3)\n",
    "    big_int_c = 0.5*eta**2/beta**2 * ((T-i) + 2*beta*(1-m)/(alpha*(alpha-beta)) - 2*alpha*(1-n)/(beta*(alpha-beta)) +\\\n",
    "                                      beta**2 * (1-m**2)/(2*alpha*(alpha-beta)**2) - \\\n",
    "                                      2*beta*alpha * (1-m*n)/((alpha+beta)*(alpha-beta)**2) +\\\n",
    "                                      alpha**2 * (1-n**2)/(2*beta*(alpha-beta)**2))\n",
    "    At = -phi*(T-i) - phi*beta*(1-m)/(alpha*(alpha - beta)) + phi*alpha*(1-n)/(beta*(alpha-beta)) +big_int_b+big_int_c\n",
    "    \n",
    "    \n",
    "    "
   ]
  }
 ],
 "metadata": {
  "kernelspec": {
   "display_name": "Python 3",
   "language": "python",
   "name": "python3"
  },
  "language_info": {
   "codemirror_mode": {
    "name": "ipython",
    "version": 3
   },
   "file_extension": ".py",
   "mimetype": "text/x-python",
   "name": "python",
   "nbconvert_exporter": "python",
   "pygments_lexer": "ipython3",
   "version": "3.6.8"
  }
 },
 "nbformat": 4,
 "nbformat_minor": 2
}
